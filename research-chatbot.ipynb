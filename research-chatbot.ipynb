{
 "cells": [
  {
   "cell_type": "markdown",
   "metadata": {},
   "source": [
    "## Load PDF Documents"
   ]
  },
  {
   "cell_type": "code",
   "execution_count": 1,
   "metadata": {},
   "outputs": [],
   "source": [
    "from langchain.text_splitter import RecursiveCharacterTextSplitter\n",
    "from langchain.document_loaders import PyPDFDirectoryLoader\n",
    "\n",
    "def load_pdfs(chunk_size=3000, chunk_overlap=100):\n",
    "\n",
    "    # load the pdf documents\n",
    "    loader=PyPDFDirectoryLoader(\"PDF Documents\")\n",
    "    documents=loader.load()\n",
    "\n",
    "    # split the documents into chunks\n",
    "    text_splitter = RecursiveCharacterTextSplitter(chunk_size=chunk_size, \n",
    "                                                   chunk_overlap=chunk_overlap)\n",
    "    docs = text_splitter.split_documents(documents=documents)\n",
    "    return docs"
   ]
  },
  {
   "cell_type": "markdown",
   "metadata": {},
   "source": [
    "## Build vector store"
   ]
  },
  {
   "cell_type": "code",
   "execution_count": 2,
   "metadata": {},
   "outputs": [],
   "source": [
    "from langchain_community.embeddings import BedrockEmbeddings\n",
    "from langchain_community.vectorstores.faiss import FAISS\n",
    "\n",
    "def create_vector_store(docs):\n",
    "\n",
    "    # Set up bedrock client\n",
    "    bedrock = create_client()\n",
    "    bedrock_embeddings=BedrockEmbeddings(model_id='amazon.titan-embed-text-v1', client=bedrock)\n",
    "\n",
    "    # create and save the vector store\n",
    "    vector_store = FAISS.from_documents(docs, bedrock_embeddings)\n",
    "    vector_store.save_local(\"faiss_index\")\n",
    "    \n",
    "    return None"
   ]
  },
  {
   "cell_type": "markdown",
   "metadata": {},
   "source": [
    "## Load LLM"
   ]
  },
  {
   "cell_type": "code",
   "execution_count": 3,
   "metadata": {},
   "outputs": [],
   "source": [
    "from langchain.llms.bedrock import Bedrock\n",
    "\n",
    "def create_llm(bedrock_client):\n",
    "\n",
    "    # load llama2 \n",
    "    llm = Bedrock(model_id='meta.llama2-13b-chat-v1', \n",
    "                  client=bedrock_client,\n",
    "                  streaming=True,\n",
    "                  model_kwargs={'temperature':0})\n",
    "    return llm"
   ]
  },
  {
   "cell_type": "markdown",
   "metadata": {},
   "source": [
    "## Create retrieval chain\n",
    "\n",
    "It will receive user query -> retrieve most similar chunks from vector store -> send embedded query and retrieved chunks to loaded LLM, generating response with context"
   ]
  },
  {
   "cell_type": "code",
   "execution_count": 4,
   "metadata": {},
   "outputs": [
    {
     "ename": "NameError",
     "evalue": "name 'bedrock_client' is not defined",
     "output_type": "error",
     "traceback": [
      "\u001b[1;31m---------------------------------------------------------------------------\u001b[0m",
      "\u001b[1;31mNameError\u001b[0m                                 Traceback (most recent call last)",
      "Cell \u001b[1;32mIn[4], line 6\u001b[0m\n\u001b[0;32m      3\u001b[0m \u001b[38;5;28;01mfrom\u001b[39;00m \u001b[38;5;21;01mlangchain\u001b[39;00m\u001b[38;5;21;01m.\u001b[39;00m\u001b[38;5;21;01mchains\u001b[39;00m \u001b[38;5;28;01mimport\u001b[39;00m RetrievalQA, ConversationalRetrievalChain\n\u001b[0;32m      5\u001b[0m \u001b[38;5;66;03m# load llm\u001b[39;00m\n\u001b[1;32m----> 6\u001b[0m llm \u001b[38;5;241m=\u001b[39m create_llm(bedrock_client\u001b[38;5;241m=\u001b[39m\u001b[43mbedrock_client\u001b[49m)\n\u001b[0;32m      8\u001b[0m \u001b[38;5;66;03m# load embeddings and vector store\u001b[39;00m\n\u001b[0;32m      9\u001b[0m bedrock_embeddings\u001b[38;5;241m=\u001b[39mBedrockEmbeddings(model_id\u001b[38;5;241m=\u001b[39m\u001b[38;5;124m'\u001b[39m\u001b[38;5;124mamazon.titan-embed-text-v1\u001b[39m\u001b[38;5;124m'\u001b[39m, client\u001b[38;5;241m=\u001b[39mbedrock_client)\n",
      "\u001b[1;31mNameError\u001b[0m: name 'bedrock_client' is not defined"
     ]
    }
   ],
   "source": [
    "from langchain.llms.bedrock import Bedrock\n",
    "from langchain.memory import ChatMessageHistory, ConversationBufferMemory\n",
    "from langchain.chains import RetrievalQA, ConversationalRetrievalChain\n",
    "\n",
    "# load llm\n",
    "llm = create_llm(bedrock_client=bedrock_client)\n",
    "\n",
    "# load embeddings and vector store\n",
    "bedrock_embeddings=BedrockEmbeddings(model_id='amazon.titan-embed-text-v1', client=bedrock_client)\n",
    "vector_store = FAISS.load_local('faiss_index', bedrock_embeddings, allow_dangerous_deserialization=True)\n",
    "\n",
    "# create memory history\n",
    "message_history = ChatMessageHistory()\n",
    "# store past queries for follow up questions\n",
    "memory = ConversationBufferMemory(\n",
    "    memory_key=\"chat_history\",\n",
    "    output_key=\"answer\",\n",
    "    chat_memory=message_history,\n",
    "    return_messages=True,\n",
    ")\n",
    "\n",
    "# create qa chain\n",
    "qa_chain = ConversationalRetrievalChain.from_llm(llm, \n",
    "                                       chain_type='stuff', \n",
    "                                       retriever=vector_store.as_retriever(search_type='similarity', search_kwargs={\"k\":3}), # use 3 embeddings from context\n",
    "                                       return_source_documents=True,\n",
    "                                       memory=memory)"
   ]
  },
  {
   "cell_type": "markdown",
   "metadata": {},
   "source": [
    "## Build UI with Chainlit\n",
    "\n",
    "Chainlit is used for creating the function that establishes the chain"
   ]
  },
  {
   "cell_type": "code",
   "execution_count": null,
   "metadata": {},
   "outputs": [],
   "source": [
    "!pip install chainlit"
   ]
  },
  {
   "cell_type": "code",
   "execution_count": null,
   "metadata": {},
   "outputs": [],
   "source": [
    "import chainlit as cl\n",
    "\n",
    "@cl.on_chat_start\n",
    "async def create_qa_chain():\n",
    "\n",
    "    # create client \n",
    "    bedrock_client = create_client()\n",
    "\n",
    "    # load llm\n",
    "    llm = create_llm(bedrock_client=bedrock_client)\n",
    "\n",
    "    # load embeddings and vector store\n",
    "    bedrock_embeddings=BedrockEmbeddings(model_id='amazon.titan-embed-text-v1', client=bedrock_client)\n",
    "    vector_store = FAISS.load_local('faiss_index', bedrock_embeddings, allow_dangerous_deserialization=True)\n",
    "    \n",
    "    # create memory history\n",
    "    message_history = ChatMessageHistory()\n",
    "    memory = ConversationBufferMemory(\n",
    "        memory_key=\"chat_history\",\n",
    "        output_key=\"answer\",\n",
    "        chat_memory=message_history,\n",
    "        return_messages=True,\n",
    "    )\n",
    "\n",
    "    # create qa chain\n",
    "    qa_chain = ConversationalRetrievalChain.from_llm(llm, \n",
    "                                           chain_type='stuff', \n",
    "                                           retriever=vector_store.as_retriever(search_type='similarity', search_kwargs={\"k\":3}),\n",
    "                                           return_source_documents=True,\n",
    "                                           memory=memory\n",
    "                                           )\n",
    "    \n",
    "    # add custom messages to the user interface\n",
    "    msg = cl.Message(content=\"Loading the bot...\")\n",
    "    await msg.send()\n",
    "    msg.content = \"Hi, Welcome to the QA Chatbot! Please ask your question.\"\n",
    "    await msg.update()\n",
    "    \n",
    "    cl.user_session.set('qa_chain' ,qa_chain)"
   ]
  },
  {
   "cell_type": "code",
   "execution_count": null,
   "metadata": {},
   "outputs": [],
   "source": [
    "import re\n",
    "\n",
    "@cl.on_message\n",
    "async def generate_response(query):\n",
    "    qa_chain = cl.user_session.get('qa_chain')\n",
    "\n",
    "    res = await qa_chain.acall(query.content, callbacks=[cl.AsyncLangchainCallbackHandler(\n",
    "        stream_final_answer=True, \n",
    "        )])\n",
    "\n",
    "    # extract results and source documents\n",
    "    result, source_documents = res['answer'], res['source_documents']\n",
    "\n",
    "    # Extract all values associated with the 'metadata' key\n",
    "    source_documents = str(source_documents)\n",
    "    metadata_values = re.findall(r\"metadata={'source': '([^']*)', 'page': (\\d+)}\", source_documents)\n",
    "\n",
    "    # Convert metadata_values into a single string\n",
    "    pattern = r'PDF Documents|\\\\'\n",
    "    metadata_string = \"\\n\".join([f\"Source: {re.sub(pattern, '', source)}, page: {page}\" for source, page in metadata_values])\n",
    "\n",
    "    # add metadata (i.e., sources) to the results\n",
    "    result += f'\\n\\n{metadata_string}'\n",
    "\n",
    "    # send the generated response to the user\n",
    "    await cl.Message(content=result).send()"
   ]
  }
 ],
 "metadata": {
  "kernelspec": {
   "display_name": "lc",
   "language": "python",
   "name": "python3"
  },
  "language_info": {
   "codemirror_mode": {
    "name": "ipython",
    "version": 3
   },
   "file_extension": ".py",
   "mimetype": "text/x-python",
   "name": "python",
   "nbconvert_exporter": "python",
   "pygments_lexer": "ipython3",
   "version": "3.9.18"
  }
 },
 "nbformat": 4,
 "nbformat_minor": 2
}
